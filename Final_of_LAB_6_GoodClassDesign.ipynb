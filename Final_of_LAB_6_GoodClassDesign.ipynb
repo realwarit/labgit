{
  "nbformat": 4,
  "nbformat_minor": 0,
  "metadata": {
    "colab": {
      "provenance": []
    },
    "kernelspec": {
      "name": "python3",
      "display_name": "Python 3"
    },
    "language_info": {
      "name": "python"
    }
  },
  "cells": [
    {
      "cell_type": "markdown",
      "source": [
        "# Lab: Refactoring for Better Class Design\n",
        "\n",
        "Objectives\n",
        "\n",
        "\n",
        "1.   Improve cohesion by ensuring each class has a single, clear responsibility.\n",
        "2.   Reduce coupling to minimize dependencies between classes.\n",
        "3. Apply refactoring techniques to make the code more maintainable.\n",
        "4. Use Representation-Driven Design (RDD) by utilizing private variables and controlled access.\n",
        "\n",
        "\n",
        "\n",
        "\n",
        "\n"
      ],
      "metadata": {
        "id": "gkAU-xV_kVIU"
      }
    },
    {
      "cell_type": "code",
      "execution_count": null,
      "metadata": {
        "id": "VYBDnZcAkD4Z"
      },
      "outputs": [],
      "source": [
        "class GameCharacter:\n",
        "    def __init__(self, name, hp, attack, defense, gold, inventory, level, experience, quests):\n",
        "        self.name = name\n",
        "        self.hp = hp\n",
        "        self.attack = attack\n",
        "        self.defense = defense\n",
        "        self.gold = gold\n",
        "        self.inventory = inventory\n",
        "        self.level = level\n",
        "        self.experience = experience\n",
        "        self.quests = quests\n",
        "\n",
        "    def attack_enemy(self, enemy):\n",
        "        damage = self.attack - enemy.defense\n",
        "        if damage > 0:\n",
        "            enemy.hp -= damage\n",
        "        print(f\"{self.name} attacks {enemy.name} for {damage} damage!\")\n",
        "\n",
        "    def buy_item(self, item, price):\n",
        "        if self.gold >= price:\n",
        "            self.gold -= price\n",
        "            self.inventory.append(item)\n",
        "            print(f\"{self.name} bought {item}!\")\n",
        "        else:\n",
        "            print(f\"{self.name} doesn't have enough gold!\")\n",
        "\n",
        "    def display_status(self):\n",
        "        print(f\"Name: {self.name}, HP: {self.hp}, Attack: {self.attack}, Defense: {self.defense}, Gold: {self.gold}, Level: {self.level}, Experience: {self.experience}\")\n",
        "\n",
        "    def gain_experience(self, points):\n",
        "        self.experience += points\n",
        "        if self.experience >= 100:\n",
        "            self.level_up()\n",
        "\n",
        "    def level_up(self):\n",
        "        self.level += 1\n",
        "        self.attack += 5\n",
        "        self.defense += 3\n",
        "        self.hp += 10\n",
        "        print(f\"{self.name} leveled up to level {self.level}!\")\n",
        "\n",
        "    def complete_quest(self, quest):\n",
        "        if quest not in self.quests:\n",
        "            self.quests.append(quest)\n",
        "            print(f\"{self.name} completed quest: {quest}!\")\n",
        "        else:\n",
        "            print(f\"{self.name} already completed this quest.\")\n",
        "\n",
        "    def buy_armor(self, armor, price):\n",
        "        if self.gold >= price:\n",
        "            self.gold -= price\n",
        "            self.inventory.append(armor)\n",
        "            print(f\"{self.name} bought armor: {armor}!\")\n",
        "        else:\n",
        "            print(f\"{self.name} doesn't have enough gold for armor!\")\n",
        "\n",
        "    def use_potion(self, potion):\n",
        "        if potion in self.inventory:\n",
        "            self.hp += 20\n",
        "            self.inventory.remove(potion)\n",
        "            print(f\"{self.name} used a {potion} potion!\")\n",
        "        else:\n",
        "            print(f\"{self.name} doesn't have a {potion} potion!\")\n"
      ]
    },
    {
      "cell_type": "markdown",
      "source": [
        "What's the problem of the code above?"
      ],
      "metadata": {
        "id": "3RzRttMFkxNX"
      }
    },
    {
      "cell_type": "code",
      "source": [
        "# 1. class นี้มีฟังก์ชันที่ต้องรับผิดชอบมากเกินไป ทำให้ดูแลรักษายาก\n",
        "# 2. class มีขนาดใหญ่และซับซ้อนเกินไป\n",
        "# 3. ตัวแปรไม่เป็น private และ getter/setter ทำให้เสี่ยงต่อการเข้าถึงตัวแปรโดยตรง"
      ],
      "metadata": {
        "id": "EKElSbXmlCL4"
      },
      "execution_count": null,
      "outputs": []
    },
    {
      "cell_type": "markdown",
      "source": [
        "What's your solution to modify the code?\n",
        "\n",
        "Hint: The modified version should contain 3 - 4 classes"
      ],
      "metadata": {
        "id": "YoHUvxGYtBP0"
      }
    },
    {
      "cell_type": "code",
      "source": [
        "# 1. ทำให้ตัวแปรเป็นแบบ private เพื่อให้เสียงต่อการเข้าถึงจากภายนอก\n",
        "# 2. เพิ่ม getter setter เพื่อช่วยควบคุมการเข้าถึงข้อมูล\n",
        "# 3. แยกคลาส Inventory, Quests, Shop, Enemy ออกมาจาก GameCharacter"
      ],
      "metadata": {
        "id": "D516rZvotJ6H"
      },
      "execution_count": null,
      "outputs": []
    },
    {
      "cell_type": "markdown",
      "source": [
        "Refactor the code using good class design principle."
      ],
      "metadata": {
        "id": "33deEtYdl8uy"
      }
    },
    {
      "cell_type": "code",
      "source": [
        "class GameCharacter:\n",
        "    def __init__(self, name, hp, attack, defense, gold , level , experience):\n",
        "        self.__name = name\n",
        "        self.__hp = hp\n",
        "        self.__attack = attack\n",
        "        self.__defense = defense\n",
        "        self.__gold = gold\n",
        "        self.__level = level\n",
        "        self.__experience = experience\n",
        "        self.__inventory = Inventory()\n",
        "        self.__quests = Quests()\n",
        "        self.__armor = None\n",
        "\n",
        "    # Getters and Setters\n",
        "    def get_name(self):\n",
        "        return self.__name\n",
        "\n",
        "    def get_hp(self):\n",
        "        return self.__hp\n",
        "\n",
        "    def set_hp(self, hp):\n",
        "        self.__hp = hp\n",
        "\n",
        "    def get_attack(self):\n",
        "        return self.__attack\n",
        "\n",
        "    def set_attack(self, attack):\n",
        "        self.__attack = attack\n",
        "\n",
        "    def get_defense(self):\n",
        "        return self.__defense\n",
        "\n",
        "    def set_defense(self, defense):\n",
        "        self.__defense = defense\n",
        "\n",
        "    def get_gold(self):\n",
        "        return self.__gold\n",
        "\n",
        "    def set_gold(self, gold):\n",
        "        self.__gold = gold\n",
        "\n",
        "    def get_level(self):\n",
        "        return self.__level\n",
        "\n",
        "    def get_experience(self):\n",
        "        return self.__experience\n",
        "\n",
        "    def gain_experience(self, points):\n",
        "        self.__experience += points\n",
        "        while self.__experience >= 100:\n",
        "            self.level_up()\n",
        "\n",
        "    def level_up(self):\n",
        "        self.__experience -= 100\n",
        "        self.__level += 1\n",
        "        self.__attack += 5\n",
        "        self.__defense += 3\n",
        "        self.__hp += 10\n",
        "        print(f\"{self.__name} leveled up to level {self.__level}!\")\n",
        "\n",
        "    def attack_enemy(self, enemy):\n",
        "        damage = self.__attack - enemy.get_defense()\n",
        "        enemy.take_damage(damage)\n",
        "        print(f\"{self.__name} attacks {enemy.get_name()} for {damage} damage!\")\n",
        "\n",
        "    def complete_quest(self, quest):\n",
        "        self.__quests.add_quest(quest)\n",
        "\n",
        "    def display_status(self):\n",
        "        print(f\"Name: {self.__name}, HP: {self.__hp}, Attack: {self.__attack}, Defense: {self.__defense}, Gold: {self.__gold}, Level: {self.__level}, Experience: {self.__experience}\")\n"
      ],
      "metadata": {
        "id": "TG5K1NO7l_JE"
      },
      "execution_count": null,
      "outputs": []
    },
    {
      "cell_type": "code",
      "source": [
        "class Inventory:\n",
        "    def __init__(self):\n",
        "        self.__items = []\n",
        "\n",
        "    def add_item(self, item):\n",
        "        self.__items.append(item)\n",
        "\n",
        "    def remove_item(self, item):\n",
        "        if item in self.__items:\n",
        "            self.__items.remove(item)\n",
        "\n",
        "    def get_items(self):\n",
        "        return self.__items"
      ],
      "metadata": {
        "id": "tNNGEZnaHX3q"
      },
      "execution_count": null,
      "outputs": []
    },
    {
      "cell_type": "code",
      "source": [
        "class Quests:\n",
        "    def __init__(self):\n",
        "        self.__quests = []\n",
        "\n",
        "    def add_quest(self, quest):\n",
        "        if quest not in self.__quests:\n",
        "            self.__quests.append(quest)\n",
        "            print(f\"Quest '{quest}' added!\")\n",
        "        else:\n",
        "            print(f\"Quest '{quest}' is already completed.\")"
      ],
      "metadata": {
        "id": "_RF41qZLHdAG"
      },
      "execution_count": null,
      "outputs": []
    },
    {
      "cell_type": "code",
      "source": [
        "class Enemy:\n",
        "    def __init__(self, name, hp, defense):\n",
        "        self.__name = name\n",
        "        self.__hp = hp\n",
        "        self.__defense = defense\n",
        "\n",
        "    def take_damage(self, damage):\n",
        "        self.__hp -= damage\n",
        "        print(f\"{self.__name} now has {self.__hp} HP left.\")\n",
        "\n",
        "    def get_name(self):\n",
        "        return self.__name\n",
        "\n",
        "    def get_hp(self):\n",
        "        return self.__hp\n",
        "\n",
        "    def get_defense(self):\n",
        "        return self.__defense"
      ],
      "metadata": {
        "id": "XYZp7dUpHh2U"
      },
      "execution_count": null,
      "outputs": []
    },
    {
      "cell_type": "code",
      "source": [
        "class Shop:\n",
        "    def __init__(self, character):\n",
        "        self.__character = character\n",
        "\n",
        "    def buy_item(self, item, price):\n",
        "        if self.__character.get_gold() >= price:\n",
        "            self.__character.set_gold(self.__character.get_gold() - price)\n",
        "            self.__character._GameCharacter__inventory.add_item(item)\n",
        "            print(f\"{self.__character.get_name()} bought {item}!\")\n",
        "        else:\n",
        "            print(f\"{self.__character.get_name()} doesn't have enough gold!\")\n",
        "\n",
        "    def buy_armor(self, armor, price):\n",
        "        if self.__character.get_gold() >= price:\n",
        "            self.__character.set_gold(self.__character.get_gold() - price)\n",
        "            self.__character._GameCharacter__inventory.add_item(armor)\n",
        "            self.__character._GameCharacter__armor = armor\n",
        "            print(f\"{self.__character.get_name()} bought armor: {armor}!\")\n",
        "        else:\n",
        "            print(f\"{self.__character.get_name()} doesn't have enough gold for armor!\")"
      ],
      "metadata": {
        "id": "um0nTcWeHoyK"
      },
      "execution_count": null,
      "outputs": []
    },
    {
      "cell_type": "code",
      "source": [
        "print(\"♡♡♡♡♡♡♡♡♡♡♡♡♡♡♡♡♡♡♡♡♡♡♡♡♡♡♡♡♡♡♡♡♡♡♡♡♡♡♡♡♡♡♡♡♡♡♡♡♡♡♡♡♡♡♡♡♡♡♡♡♡♡♡♡♡♡♡♡♡♡♡♡♡♡♡♡♡♡\")\n",
        "player = GameCharacter(\"Hero\", 100, 20, 10, 50, level=5, experience=100)\n",
        "shop = Shop(player)\n",
        "enemy = Enemy(\"Goblin\", 50, 5)\n",
        "\n",
        "player.display_status()\n",
        "shop.buy_armor(\"Iron Armor\", 30)\n",
        "player.attack_enemy(enemy)\n",
        "player.gain_experience(120)\n",
        "player.display_status()\n",
        "print(\"♡♡♡♡♡♡♡♡♡♡♡♡♡♡♡♡♡♡♡♡♡♡♡♡♡♡♡♡♡♡♡♡♡♡♡♡♡♡♡♡♡♡♡♡♡♡♡♡♡♡♡♡♡♡♡♡♡♡♡♡♡♡♡♡♡♡♡♡♡♡♡♡♡♡♡♡♡♡\")"
      ],
      "metadata": {
        "id": "dlMOznd1HySY",
        "outputId": "83d4b5e2-803b-4e0e-b347-993f2fd44d62",
        "colab": {
          "base_uri": "https://localhost:8080/"
        }
      },
      "execution_count": null,
      "outputs": [
        {
          "output_type": "stream",
          "name": "stdout",
          "text": [
            "♡♡♡♡♡♡♡♡♡♡♡♡♡♡♡♡♡♡♡♡♡♡♡♡♡♡♡♡♡♡♡♡♡♡♡♡♡♡♡♡♡♡♡♡♡♡♡♡♡♡♡♡♡♡♡♡♡♡♡♡♡♡♡♡♡♡♡♡♡♡♡♡♡♡♡♡♡♡\n",
            "Name: Hero, HP: 100, Attack: 20, Defense: 10, Gold: 50, Level: 5, Experience: 100\n",
            "Hero bought armor: Iron Armor!\n",
            "Goblin now has 35 HP left.\n",
            "Hero attacks Goblin for 15 damage!\n",
            "Hero leveled up to level 6!\n",
            "Hero leveled up to level 7!\n",
            "Name: Hero, HP: 120, Attack: 30, Defense: 16, Gold: 20, Level: 7, Experience: 20\n",
            "♡♡♡♡♡♡♡♡♡♡♡♡♡♡♡♡♡♡♡♡♡♡♡♡♡♡♡♡♡♡♡♡♡♡♡♡♡♡♡♡♡♡♡♡♡♡♡♡♡♡♡♡♡♡♡♡♡♡♡♡♡♡♡♡♡♡♡♡♡♡♡♡♡♡♡♡♡♡\n"
          ]
        }
      ]
    }
  ]
}